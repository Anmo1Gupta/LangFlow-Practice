{
 "cells": [
  {
   "cell_type": "code",
   "execution_count": 70,
   "id": "cdb423a9-07cc-49a5-9573-6bfa3a006242",
   "metadata": {},
   "outputs": [
    {
     "name": "stdout",
     "output_type": "stream",
     "text": [
      "Requirement already satisfied: langchain-ollama in d:\\isb\\term 4\\natural language processing\\nlp-assignment\\nlp-venv\\lib\\site-packages (0.2.1)"
     ]
    },
    {
     "name": "stderr",
     "output_type": "stream",
     "text": [
      "\n",
      "[notice] A new release of pip is available: 23.2.1 -> 24.3.1\n",
      "[notice] To update, run: python.exe -m pip install --upgrade pip\n"
     ]
    },
    {
     "name": "stdout",
     "output_type": "stream",
     "text": [
      "\n",
      "Requirement already satisfied: pymupdf in d:\\isb\\term 4\\natural language processing\\nlp-assignment\\nlp-venv\\lib\\site-packages (1.25.1)\n",
      "Collecting PyPDF2\n",
      "  Obtaining dependency information for PyPDF2 from https://files.pythonhosted.org/packages/8e/5e/c86a5643653825d3c913719e788e41386bee415c2b87b4f955432f2de6b2/pypdf2-3.0.1-py3-none-any.whl.metadata\n",
      "  Downloading pypdf2-3.0.1-py3-none-any.whl.metadata (6.8 kB)\n",
      "Requirement already satisfied: langchain-core<0.4.0,>=0.3.20 in d:\\isb\\term 4\\natural language processing\\nlp-assignment\\nlp-venv\\lib\\site-packages (from langchain-ollama) (0.3.25)\n",
      "Requirement already satisfied: ollama<1,>=0.3.0 in d:\\isb\\term 4\\natural language processing\\nlp-assignment\\nlp-venv\\lib\\site-packages (from langchain-ollama) (0.3.3)\n",
      "Requirement already satisfied: PyYAML>=5.3 in d:\\isb\\term 4\\natural language processing\\nlp-assignment\\nlp-venv\\lib\\site-packages (from langchain-core<0.4.0,>=0.3.20->langchain-ollama) (6.0.2)\n",
      "Requirement already satisfied: jsonpatch<2.0,>=1.33 in d:\\isb\\term 4\\natural language processing\\nlp-assignment\\nlp-venv\\lib\\site-packages (from langchain-core<0.4.0,>=0.3.20->langchain-ollama) (1.33)\n",
      "Requirement already satisfied: langsmith<0.3,>=0.1.125 in d:\\isb\\term 4\\natural language processing\\nlp-assignment\\nlp-venv\\lib\\site-packages (from langchain-core<0.4.0,>=0.3.20->langchain-ollama) (0.1.147)\n",
      "Requirement already satisfied: packaging<25,>=23.2 in d:\\isb\\term 4\\natural language processing\\nlp-assignment\\nlp-venv\\lib\\site-packages (from langchain-core<0.4.0,>=0.3.20->langchain-ollama) (24.2)\n",
      "Requirement already satisfied: pydantic<3.0.0,>=2.5.2 in d:\\isb\\term 4\\natural language processing\\nlp-assignment\\nlp-venv\\lib\\site-packages (from langchain-core<0.4.0,>=0.3.20->langchain-ollama) (2.7.4)\n",
      "Requirement already satisfied: tenacity!=8.4.0,<10.0.0,>=8.1.0 in d:\\isb\\term 4\\natural language processing\\nlp-assignment\\nlp-venv\\lib\\site-packages (from langchain-core<0.4.0,>=0.3.20->langchain-ollama) (8.5.0)\n",
      "Requirement already satisfied: typing-extensions>=4.7 in d:\\isb\\term 4\\natural language processing\\nlp-assignment\\nlp-venv\\lib\\site-packages (from langchain-core<0.4.0,>=0.3.20->langchain-ollama) (4.12.2)\n",
      "Requirement already satisfied: httpx<0.28.0,>=0.27.0 in d:\\isb\\term 4\\natural language processing\\nlp-assignment\\nlp-venv\\lib\\site-packages (from ollama<1,>=0.3.0->langchain-ollama) (0.27.0)\n",
      "Requirement already satisfied: anyio in d:\\isb\\term 4\\natural language processing\\nlp-assignment\\nlp-venv\\lib\\site-packages (from httpx<0.28.0,>=0.27.0->ollama<1,>=0.3.0->langchain-ollama) (4.7.0)\n",
      "Requirement already satisfied: certifi in d:\\isb\\term 4\\natural language processing\\nlp-assignment\\nlp-venv\\lib\\site-packages (from httpx<0.28.0,>=0.27.0->ollama<1,>=0.3.0->langchain-ollama) (2024.12.14)\n",
      "Requirement already satisfied: httpcore==1.* in d:\\isb\\term 4\\natural language processing\\nlp-assignment\\nlp-venv\\lib\\site-packages (from httpx<0.28.0,>=0.27.0->ollama<1,>=0.3.0->langchain-ollama) (1.0.7)\n",
      "Requirement already satisfied: idna in d:\\isb\\term 4\\natural language processing\\nlp-assignment\\nlp-venv\\lib\\site-packages (from httpx<0.28.0,>=0.27.0->ollama<1,>=0.3.0->langchain-ollama) (3.10)\n",
      "Requirement already satisfied: sniffio in d:\\isb\\term 4\\natural language processing\\nlp-assignment\\nlp-venv\\lib\\site-packages (from httpx<0.28.0,>=0.27.0->ollama<1,>=0.3.0->langchain-ollama) (1.3.1)\n",
      "Requirement already satisfied: h11<0.15,>=0.13 in d:\\isb\\term 4\\natural language processing\\nlp-assignment\\nlp-venv\\lib\\site-packages (from httpcore==1.*->httpx<0.28.0,>=0.27.0->ollama<1,>=0.3.0->langchain-ollama) (0.14.0)\n",
      "Requirement already satisfied: jsonpointer>=1.9 in d:\\isb\\term 4\\natural language processing\\nlp-assignment\\nlp-venv\\lib\\site-packages (from jsonpatch<2.0,>=1.33->langchain-core<0.4.0,>=0.3.20->langchain-ollama) (3.0.0)\n",
      "Requirement already satisfied: orjson<4.0.0,>=3.9.14 in d:\\isb\\term 4\\natural language processing\\nlp-assignment\\nlp-venv\\lib\\site-packages (from langsmith<0.3,>=0.1.125->langchain-core<0.4.0,>=0.3.20->langchain-ollama) (3.10.0)\n",
      "Requirement already satisfied: requests<3,>=2 in d:\\isb\\term 4\\natural language processing\\nlp-assignment\\nlp-venv\\lib\\site-packages (from langsmith<0.3,>=0.1.125->langchain-core<0.4.0,>=0.3.20->langchain-ollama) (2.32.3)\n",
      "Requirement already satisfied: requests-toolbelt<2.0.0,>=1.0.0 in d:\\isb\\term 4\\natural language processing\\nlp-assignment\\nlp-venv\\lib\\site-packages (from langsmith<0.3,>=0.1.125->langchain-core<0.4.0,>=0.3.20->langchain-ollama) (1.0.0)\n",
      "Requirement already satisfied: annotated-types>=0.4.0 in d:\\isb\\term 4\\natural language processing\\nlp-assignment\\nlp-venv\\lib\\site-packages (from pydantic<3.0.0,>=2.5.2->langchain-core<0.4.0,>=0.3.20->langchain-ollama) (0.7.0)\n",
      "Requirement already satisfied: pydantic-core==2.18.4 in d:\\isb\\term 4\\natural language processing\\nlp-assignment\\nlp-venv\\lib\\site-packages (from pydantic<3.0.0,>=2.5.2->langchain-core<0.4.0,>=0.3.20->langchain-ollama) (2.18.4)\n",
      "Requirement already satisfied: charset-normalizer<4,>=2 in d:\\isb\\term 4\\natural language processing\\nlp-assignment\\nlp-venv\\lib\\site-packages (from requests<3,>=2->langsmith<0.3,>=0.1.125->langchain-core<0.4.0,>=0.3.20->langchain-ollama) (3.4.0)\n",
      "Requirement already satisfied: urllib3<3,>=1.21.1 in d:\\isb\\term 4\\natural language processing\\nlp-assignment\\nlp-venv\\lib\\site-packages (from requests<3,>=2->langsmith<0.3,>=0.1.125->langchain-core<0.4.0,>=0.3.20->langchain-ollama) (2.2.3)\n",
      "Downloading pypdf2-3.0.1-py3-none-any.whl (232 kB)\n",
      "   ---------------------------------------- 0.0/232.6 kB ? eta -:--:--\n",
      "   ----- ---------------------------------- 30.7/232.6 kB 1.3 MB/s eta 0:00:01\n",
      "   -------------------------------------- - 225.3/232.6 kB 3.4 MB/s eta 0:00:01\n",
      "   ---------------------------------------- 232.6/232.6 kB 3.5 MB/s eta 0:00:00\n",
      "Installing collected packages: PyPDF2\n",
      "Successfully installed PyPDF2-3.0.1\n"
     ]
    }
   ],
   "source": [
    "!pip install langchain-ollama pymupdf PyPDF2"
   ]
  },
  {
   "cell_type": "code",
   "execution_count": 71,
   "id": "17a3923f-21ec-4851-b97b-5bd3e2311f3f",
   "metadata": {},
   "outputs": [],
   "source": [
    "import os\n",
    "import pickle\n",
    "\n",
    "from langchain_ollama import OllamaLLM  # Use updated OllamaLLM class\n",
    "from langchain.document_loaders import PyMuPDFLoader\n",
    "import PyPDF2\n",
    "# from langchain.vectorstores import Chroma\n",
    "from langchain_ollama import OllamaEmbeddings\n",
    "from langchain.prompts import ChatPromptTemplate\n",
    "from langchain.text_splitter import RecursiveCharacterTextSplitter"
   ]
  },
  {
   "cell_type": "code",
   "execution_count": 72,
   "id": "006a358d-3941-4817-8d11-73cbe8a514e6",
   "metadata": {},
   "outputs": [],
   "source": [
    "# Load Ollama model (ensure Ollama server is running locally)\n",
    "ollama = OllamaLLM(base_url=\"http://localhost:11434\", model=\"llama3.2\")"
   ]
  },
  {
   "cell_type": "code",
   "execution_count": 94,
   "id": "4040f1a1-a47b-48ff-8016-76707bd21c15",
   "metadata": {},
   "outputs": [],
   "source": [
    "# Define files and target years\n",
    "files_to_predict = {\n",
    "    \"2018\": (\"./Tesla annual report 2018.pdf\", \"2019\", \"21.46 Million USD\", \"4.04 Million USD\"),\n",
    "    # \"2020\": (\"./Walmart_2018_Annual_Report.pdf\", \"2021\", \"247.837 Billion USD\", \"4 Billion USD\"),\n",
    "    # \"2022\": (\"./Walmart_2018_Annual_Report.pdf\", \"2023\", \"247.837 Billion USD\", \"4 Billion USD\"),\n",
    "}\n",
    "\n",
    "chunk_cache_path = \"./chunk_cache.pkl\"  # File to store precomputed chunks"
   ]
  },
  {
   "cell_type": "code",
   "execution_count": 95,
   "id": "465542c5",
   "metadata": {},
   "outputs": [],
   "source": [
    "def extract_from_pdf(pdf_path):\n",
    "    text = \"\"\n",
    "    with open(pdf_path, \"rb\") as file:\n",
    "        reader = PyPDF2.PdfReader(file)\n",
    "        for page in reader.pages:\n",
    "            text += page.extract_text()\n",
    "    return text"
   ]
  },
  {
   "cell_type": "code",
   "execution_count": 96,
   "id": "ba41a159",
   "metadata": {},
   "outputs": [],
   "source": [
    "# Function to query Ollama for predictions\n",
    "def query_ollama(ollama, prompt):\n",
    "    response = ollama.invoke(input=prompt)\n",
    "    return response"
   ]
  },
  {
   "cell_type": "code",
   "execution_count": 97,
   "id": "97085671-e94b-41ef-893f-72805f9458a0",
   "metadata": {},
   "outputs": [
    {
     "name": "stdout",
     "output_type": "stream",
     "text": [
      "Using 2018's Report to predict 2019's Revenues - \n",
      "The document appears to be a certification statement for Tesla, Inc.'s Annual Report on Form 10-K for the annual period ended December 31, 2018. The certifications are made by two officers of the company:\n",
      "\n",
      "1. **Elon Musk**, Chief Executive Officer (Principal Executive Officer)\n",
      "2. **Deepak Ahuja**, Chief Financial Officer (Principal Financial Officer)\n",
      "\n",
      "The statements certify that they have reviewed the report and have knowledge about its contents. They attest to the following:\n",
      "\n",
      "* The report fully complies with the requirements of Section 13(a) or 15(d) of the Securities Exchange Act of 1934.\n",
      "* The information contained in the report fairly presents, in all material respects, the financial condition and results of operations of Tesla, Inc.\n",
      "\n",
      "The certifications are made under Section 1350 of Title 18, United States Code, which requires public companies to disclose certain material information about their financial statements. By signing this certification statement, Musk and Ahuja are asserting that they have reviewed the report and can attest to its accuracy and compliance with applicable laws and regulations.\n"
     ]
    }
   ],
   "source": [
    "for year, (file_path, next_year, revenue, income) in files_to_predict.items():\n",
    "\n",
    "    report_extract = extract_from_pdf(file_path)\n",
    "    # Prediction template\n",
    "    PREDICTION_TEMPLATE = f\"\"\"\n",
    "    You are a financial analyst. Based on the following information from Tesla's {year} annual report and revenue numbers, predict the Revenues and Net Income for the year {next_year} \n",
    "    Please provide the predicted values for both Revenue and Net Income (or Net Sales). Be concise and provide reasoning for your prediction.\n",
    "\n",
    "    {year} Revenue: {revenue},\n",
    "    {year} net income: {income},\n",
    "\n",
    "    Financial Highlights:\n",
    "    {report_extract}\n",
    "    \"\"\"\n",
    "    # print(PREDICTION_TEMPLATE)\n",
    "    print(f'Using {year}\\'s Report to predict {next_year}\\'s Revenues - ')\n",
    "    print(query_ollama(ollama, PREDICTION_TEMPLATE))\n"
   ]
  },
  {
   "cell_type": "code",
   "execution_count": null,
   "id": "71fdb611",
   "metadata": {},
   "outputs": [],
   "source": []
  }
 ],
 "metadata": {
  "kernelspec": {
   "display_name": "Python 3 (ipykernel)",
   "language": "python",
   "name": "python3"
  },
  "language_info": {
   "codemirror_mode": {
    "name": "ipython",
    "version": 3
   },
   "file_extension": ".py",
   "mimetype": "text/x-python",
   "name": "python",
   "nbconvert_exporter": "python",
   "pygments_lexer": "ipython3",
   "version": "3.11.5"
  }
 },
 "nbformat": 4,
 "nbformat_minor": 5
}
